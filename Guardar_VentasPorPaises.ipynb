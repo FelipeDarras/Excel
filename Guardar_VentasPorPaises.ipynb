{
 "cells": [
  {
   "cell_type": "code",
   "execution_count": 1,
   "metadata": {},
   "outputs": [],
   "source": [
    "import pandas as pd\n",
    "import os"
   ]
  },
  {
   "cell_type": "code",
   "execution_count": 3,
   "metadata": {},
   "outputs": [],
   "source": [
    "data = pd.read_excel(\"VentasRopa.xlsx\")\n",
    "df = pd.DataFrame(data=data)"
   ]
  },
  {
   "cell_type": "code",
   "execution_count": 4,
   "metadata": {},
   "outputs": [
    {
     "data": {
      "text/html": [
       "<div>\n",
       "<style scoped>\n",
       "    .dataframe tbody tr th:only-of-type {\n",
       "        vertical-align: middle;\n",
       "    }\n",
       "\n",
       "    .dataframe tbody tr th {\n",
       "        vertical-align: top;\n",
       "    }\n",
       "\n",
       "    .dataframe thead th {\n",
       "        text-align: right;\n",
       "    }\n",
       "</style>\n",
       "<table border=\"1\" class=\"dataframe\">\n",
       "  <thead>\n",
       "    <tr style=\"text-align: right;\">\n",
       "      <th></th>\n",
       "      <th>productcategory</th>\n",
       "      <th>productsubcategory</th>\n",
       "      <th>product</th>\n",
       "      <th>saleterritory</th>\n",
       "      <th>Country</th>\n",
       "      <th>City</th>\n",
       "      <th>Sate</th>\n",
       "      <th>Customer</th>\n",
       "      <th>Employee</th>\n",
       "      <th>OrderCount</th>\n",
       "      <th>OrderDate</th>\n",
       "      <th>StandardCost</th>\n",
       "      <th>UnitPrice</th>\n",
       "      <th>UnitPriceDiscount</th>\n",
       "      <th>Discount</th>\n",
       "      <th>ListPrice</th>\n",
       "      <th>SaleswithStandard</th>\n",
       "      <th>NetSales</th>\n",
       "      <th>OrderQuantity</th>\n",
       "      <th>Sales</th>\n",
       "    </tr>\n",
       "  </thead>\n",
       "  <tbody>\n",
       "    <tr>\n",
       "      <th>0</th>\n",
       "      <td>Clothing</td>\n",
       "      <td>Caps</td>\n",
       "      <td>AWC Logo Cap</td>\n",
       "      <td>United Kingdom</td>\n",
       "      <td>United Kingdom</td>\n",
       "      <td>Berks</td>\n",
       "      <td>England</td>\n",
       "      <td>Gary Suess</td>\n",
       "      <td>Amy Alberts</td>\n",
       "      <td>1</td>\n",
       "      <td>2012-06-30</td>\n",
       "      <td>6.9223</td>\n",
       "      <td>5.0136</td>\n",
       "      <td>0.02</td>\n",
       "      <td>1.4038</td>\n",
       "      <td>8.6442</td>\n",
       "      <td>96.9122</td>\n",
       "      <td>-28.125608</td>\n",
       "      <td>14</td>\n",
       "      <td>68.786592</td>\n",
       "    </tr>\n",
       "    <tr>\n",
       "      <th>1</th>\n",
       "      <td>Accessories</td>\n",
       "      <td>Locks</td>\n",
       "      <td>Cable Lock</td>\n",
       "      <td>United Kingdom</td>\n",
       "      <td>United Kingdom</td>\n",
       "      <td>Berks</td>\n",
       "      <td>England</td>\n",
       "      <td>Gary Suess</td>\n",
       "      <td>Amy Alberts</td>\n",
       "      <td>1</td>\n",
       "      <td>2012-06-30</td>\n",
       "      <td>10.3125</td>\n",
       "      <td>15.0000</td>\n",
       "      <td>0.00</td>\n",
       "      <td>0.0000</td>\n",
       "      <td>25.0000</td>\n",
       "      <td>61.8750</td>\n",
       "      <td>28.125000</td>\n",
       "      <td>6</td>\n",
       "      <td>90.000000</td>\n",
       "    </tr>\n",
       "    <tr>\n",
       "      <th>2</th>\n",
       "      <td>Clothing</td>\n",
       "      <td>Gloves</td>\n",
       "      <td>Full-Finger Gloves, L</td>\n",
       "      <td>United Kingdom</td>\n",
       "      <td>United Kingdom</td>\n",
       "      <td>Berks</td>\n",
       "      <td>England</td>\n",
       "      <td>Gary Suess</td>\n",
       "      <td>Amy Alberts</td>\n",
       "      <td>1</td>\n",
       "      <td>2012-06-30</td>\n",
       "      <td>15.6709</td>\n",
       "      <td>22.7940</td>\n",
       "      <td>0.00</td>\n",
       "      <td>0.0000</td>\n",
       "      <td>37.9900</td>\n",
       "      <td>125.3672</td>\n",
       "      <td>56.984800</td>\n",
       "      <td>8</td>\n",
       "      <td>182.352000</td>\n",
       "    </tr>\n",
       "    <tr>\n",
       "      <th>3</th>\n",
       "      <td>Clothing</td>\n",
       "      <td>Gloves</td>\n",
       "      <td>Full-Finger Gloves, L</td>\n",
       "      <td>United Kingdom</td>\n",
       "      <td>United Kingdom</td>\n",
       "      <td>London</td>\n",
       "      <td>England</td>\n",
       "      <td>Linda Martin</td>\n",
       "      <td>Amy Alberts</td>\n",
       "      <td>1</td>\n",
       "      <td>2012-06-30</td>\n",
       "      <td>15.6709</td>\n",
       "      <td>20.8945</td>\n",
       "      <td>0.05</td>\n",
       "      <td>16.7156</td>\n",
       "      <td>37.9900</td>\n",
       "      <td>250.7344</td>\n",
       "      <td>66.862000</td>\n",
       "      <td>16</td>\n",
       "      <td>317.596400</td>\n",
       "    </tr>\n",
       "    <tr>\n",
       "      <th>4</th>\n",
       "      <td>Clothing</td>\n",
       "      <td>Gloves</td>\n",
       "      <td>Full-Finger Gloves, M</td>\n",
       "      <td>United Kingdom</td>\n",
       "      <td>United Kingdom</td>\n",
       "      <td>Berks</td>\n",
       "      <td>England</td>\n",
       "      <td>Gary Suess</td>\n",
       "      <td>Amy Alberts</td>\n",
       "      <td>1</td>\n",
       "      <td>2012-06-30</td>\n",
       "      <td>15.6709</td>\n",
       "      <td>22.7940</td>\n",
       "      <td>0.00</td>\n",
       "      <td>0.0000</td>\n",
       "      <td>37.9900</td>\n",
       "      <td>109.6963</td>\n",
       "      <td>49.861700</td>\n",
       "      <td>7</td>\n",
       "      <td>159.558000</td>\n",
       "    </tr>\n",
       "  </tbody>\n",
       "</table>\n",
       "</div>"
      ],
      "text/plain": [
       "  productcategory productsubcategory                product   saleterritory  \\\n",
       "0        Clothing               Caps           AWC Logo Cap  United Kingdom   \n",
       "1     Accessories              Locks             Cable Lock  United Kingdom   \n",
       "2        Clothing             Gloves  Full-Finger Gloves, L  United Kingdom   \n",
       "3        Clothing             Gloves  Full-Finger Gloves, L  United Kingdom   \n",
       "4        Clothing             Gloves  Full-Finger Gloves, M  United Kingdom   \n",
       "\n",
       "          Country    City     Sate      Customer     Employee  OrderCount  \\\n",
       "0  United Kingdom   Berks  England    Gary Suess  Amy Alberts           1   \n",
       "1  United Kingdom   Berks  England    Gary Suess  Amy Alberts           1   \n",
       "2  United Kingdom   Berks  England    Gary Suess  Amy Alberts           1   \n",
       "3  United Kingdom  London  England  Linda Martin  Amy Alberts           1   \n",
       "4  United Kingdom   Berks  England    Gary Suess  Amy Alberts           1   \n",
       "\n",
       "   OrderDate  StandardCost  UnitPrice  UnitPriceDiscount  Discount  ListPrice  \\\n",
       "0 2012-06-30        6.9223     5.0136               0.02    1.4038     8.6442   \n",
       "1 2012-06-30       10.3125    15.0000               0.00    0.0000    25.0000   \n",
       "2 2012-06-30       15.6709    22.7940               0.00    0.0000    37.9900   \n",
       "3 2012-06-30       15.6709    20.8945               0.05   16.7156    37.9900   \n",
       "4 2012-06-30       15.6709    22.7940               0.00    0.0000    37.9900   \n",
       "\n",
       "   SaleswithStandard   NetSales  OrderQuantity       Sales  \n",
       "0            96.9122 -28.125608             14   68.786592  \n",
       "1            61.8750  28.125000              6   90.000000  \n",
       "2           125.3672  56.984800              8  182.352000  \n",
       "3           250.7344  66.862000             16  317.596400  \n",
       "4           109.6963  49.861700              7  159.558000  "
      ]
     },
     "execution_count": 4,
     "metadata": {},
     "output_type": "execute_result"
    }
   ],
   "source": [
    "df.head()"
   ]
  },
  {
   "cell_type": "code",
   "execution_count": 5,
   "metadata": {},
   "outputs": [
    {
     "name": "stdout",
     "output_type": "stream",
     "text": [
      "<class 'pandas.core.frame.DataFrame'>\n",
      "RangeIndex: 60880 entries, 0 to 60879\n",
      "Data columns (total 20 columns):\n",
      " #   Column              Non-Null Count  Dtype         \n",
      "---  ------              --------------  -----         \n",
      " 0   productcategory     60841 non-null  object        \n",
      " 1   productsubcategory  60841 non-null  object        \n",
      " 2   product             60841 non-null  object        \n",
      " 3   saleterritory       60880 non-null  object        \n",
      " 4   Country             60880 non-null  object        \n",
      " 5   City                60880 non-null  object        \n",
      " 6   Sate                60880 non-null  object        \n",
      " 7   Customer            60880 non-null  object        \n",
      " 8   Employee            60880 non-null  object        \n",
      " 9   OrderCount          60880 non-null  int64         \n",
      " 10  OrderDate           60880 non-null  datetime64[ns]\n",
      " 11  StandardCost        60841 non-null  float64       \n",
      " 12  UnitPrice           60880 non-null  float64       \n",
      " 13  UnitPriceDiscount   60880 non-null  float64       \n",
      " 14  Discount            60880 non-null  float64       \n",
      " 15  ListPrice           60841 non-null  float64       \n",
      " 16  SaleswithStandard   60841 non-null  float64       \n",
      " 17  NetSales            60841 non-null  float64       \n",
      " 18  OrderQuantity       60880 non-null  int64         \n",
      " 19  Sales               60880 non-null  float64       \n",
      "dtypes: datetime64[ns](1), float64(8), int64(2), object(9)\n",
      "memory usage: 9.3+ MB\n"
     ]
    }
   ],
   "source": [
    "df.info()"
   ]
  },
  {
   "cell_type": "code",
   "execution_count": 6,
   "metadata": {},
   "outputs": [
    {
     "data": {
      "text/plain": [
       "array(['United Kingdom', 'France', 'Germany', 'Northwest', 'Canada',\n",
       "       'Central', 'Southwest', 'Northeast', 'Southeast', 'Australia'],\n",
       "      dtype=object)"
      ]
     },
     "execution_count": 6,
     "metadata": {},
     "output_type": "execute_result"
    }
   ],
   "source": [
    "ls = df['saleterritory'].unique()\n",
    "ls"
   ]
  },
  {
   "cell_type": "markdown",
   "metadata": {},
   "source": [
    "### Creación de carpetas"
   ]
  },
  {
   "cell_type": "code",
   "execution_count": 7,
   "metadata": {},
   "outputs": [
    {
     "name": "stdout",
     "output_type": "stream",
     "text": [
      "C:\\Users\\FELIPE\\Desktop\\GitHub\\Excel\\United Kingdom\n",
      "{} file saved United Kingdom\n",
      "C:\\Users\\FELIPE\\Desktop\\GitHub\\Excel\\France\n",
      "{} file saved France\n",
      "C:\\Users\\FELIPE\\Desktop\\GitHub\\Excel\\Germany\n",
      "{} file saved Germany\n",
      "C:\\Users\\FELIPE\\Desktop\\GitHub\\Excel\\Northwest\n",
      "{} file saved Northwest\n",
      "C:\\Users\\FELIPE\\Desktop\\GitHub\\Excel\\Canada\n",
      "{} file saved Canada\n",
      "C:\\Users\\FELIPE\\Desktop\\GitHub\\Excel\\Central\n",
      "{} file saved Central\n",
      "C:\\Users\\FELIPE\\Desktop\\GitHub\\Excel\\Southwest\n",
      "{} file saved Southwest\n",
      "C:\\Users\\FELIPE\\Desktop\\GitHub\\Excel\\Northeast\n",
      "{} file saved Northeast\n",
      "C:\\Users\\FELIPE\\Desktop\\GitHub\\Excel\\Southeast\n",
      "{} file saved Southeast\n",
      "C:\\Users\\FELIPE\\Desktop\\GitHub\\Excel\\Australia\n",
      "{} file saved Australia\n"
     ]
    }
   ],
   "source": [
    "base_dir = r\"C:\\Users\\FELIPE\\Desktop\\GitHub\\Excel\"\n",
    "for x in ls:\n",
    "    print(base_dir + \"\\\\\" + x)\n",
    "    folders = base_dir + \"\\\\\" + x\n",
    "    if not os.path.exists(folders):\n",
    "        os.makedirs(folders)\n",
    "    df[df['saleterritory'] == x].to_excel(\"{}\\{}.xlsx\".format(folders, x), sheet_name=x, index=False)\n",
    "    print(\"{} file saved\", x)"
   ]
  }
 ],
 "metadata": {
  "kernelspec": {
   "display_name": "Python 3.10.4 64-bit",
   "language": "python",
   "name": "python3"
  },
  "language_info": {
   "codemirror_mode": {
    "name": "ipython",
    "version": 3
   },
   "file_extension": ".py",
   "mimetype": "text/x-python",
   "name": "python",
   "nbconvert_exporter": "python",
   "pygments_lexer": "ipython3",
   "version": "3.10.4"
  },
  "orig_nbformat": 4,
  "vscode": {
   "interpreter": {
    "hash": "369f2c481f4da34e4445cda3fffd2e751bd1c4d706f27375911949ba6bb62e1c"
   }
  }
 },
 "nbformat": 4,
 "nbformat_minor": 2
}
